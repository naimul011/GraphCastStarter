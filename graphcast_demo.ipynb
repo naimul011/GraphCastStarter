{
 "cells": [
  {
   "cell_type": "markdown",
   "metadata": {
    "id": "-jAYlxeKxvAJ"
   },
   "source": [
    "# GraphCast\n",
    "\n",
    "This colab lets you run several versions of GraphCast.\n",
    "\n",
    "The model weights, normalization statistics, and example inputs are available on [Google Cloud Bucket](https://console.cloud.google.com/storage/browser/dm_graphcast).\n",
    "\n",
    "A Colab runtime with TPU/GPU acceleration will substantially speed up generating predictions and computing the loss/gradients. If you're using a CPU-only runtime, you can switch using the menu \"Runtime > Change runtime type\"."
   ]
  },
  {
   "cell_type": "markdown",
   "metadata": {
    "id": "IIWlNRupdI2i"
   },
   "source": [
    "> <p><small><small>Copyright 2023 DeepMind Technologies Limited.</small></p>\n",
    "> <p><small><small>Licensed under the Apache License, Version 2.0 (the \"License\"); you may not use this file except in compliance with the License. You may obtain a copy of the License at <a href=\"http://www.apache.org/licenses/LICENSE-2.0\">http://www.apache.org/licenses/LICENSE-2.0</a>.</small></small></p>\n",
    "> <p><small><small>Unless required by applicable law or agreed to in writing, software distributed under the License is distributed on an \"AS IS\" BASIS, WITHOUT WARRANTIES OR CONDITIONS OF ANY KIND, either express or implied. See the License for the specific language governing permissions and limitations under the License.</small></small></p>"
   ]
  },
  {
   "cell_type": "markdown",
   "metadata": {
    "id": "yMbbXFl4msJw"
   },
   "source": [
    "# Installation and Initialization\n"
   ]
  },
  {
   "cell_type": "code",
   "execution_count": 2,
   "metadata": {
    "cellView": "form",
    "id": "-W4K9skv9vh-",
    "tags": []
   },
   "outputs": [
    {
     "name": "stdout",
     "output_type": "stream",
     "text": [
      "Defaulting to user installation because normal site-packages is not writeable\n",
      "Collecting https://github.com/deepmind/graphcast/archive/master.zip\n",
      "  Using cached https://github.com/deepmind/graphcast/archive/master.zip\n",
      "  Preparing metadata (setup.py) ... \u001b[?25ldone\n",
      "\u001b[?25hRequirement already satisfied: cartopy in /u/nhaque/.local/lib/python3.9/site-packages (from graphcast==0.1) (0.22.0)\n",
      "Requirement already satisfied: chex in /u/nhaque/.local/lib/python3.9/site-packages (from graphcast==0.1) (0.1.85)\n",
      "Requirement already satisfied: colabtools in /u/nhaque/.local/lib/python3.9/site-packages (from graphcast==0.1) (0.0.1)\n",
      "Requirement already satisfied: dask in /sw/external/python/anaconda3/lib/python3.9/site-packages (from graphcast==0.1) (2023.6.0)\n",
      "Requirement already satisfied: dm-haiku in /u/nhaque/.local/lib/python3.9/site-packages (from graphcast==0.1) (0.0.11)\n",
      "Requirement already satisfied: dm-tree in /u/nhaque/.local/lib/python3.9/site-packages (from graphcast==0.1) (0.1.8)\n",
      "Requirement already satisfied: jax in /u/nhaque/.local/lib/python3.9/site-packages (from graphcast==0.1) (0.4.25)\n",
      "Requirement already satisfied: jraph in /u/nhaque/.local/lib/python3.9/site-packages (from graphcast==0.1) (0.0.6.dev0)\n",
      "Requirement already satisfied: matplotlib in /sw/external/python/anaconda3/lib/python3.9/site-packages (from graphcast==0.1) (3.7.2)\n",
      "Requirement already satisfied: numpy in /sw/external/python/anaconda3/lib/python3.9/site-packages (from graphcast==0.1) (1.24.3)\n",
      "Requirement already satisfied: pandas in /sw/external/python/anaconda3/lib/python3.9/site-packages (from graphcast==0.1) (2.0.3)\n",
      "Requirement already satisfied: rtree in /sw/external/python/anaconda3/lib/python3.9/site-packages (from graphcast==0.1) (1.0.1)\n",
      "Requirement already satisfied: scipy in /u/nhaque/.local/lib/python3.9/site-packages (from graphcast==0.1) (1.12.0)\n",
      "Requirement already satisfied: trimesh in /u/nhaque/.local/lib/python3.9/site-packages (from graphcast==0.1) (4.1.5)\n",
      "Requirement already satisfied: typing_extensions in /sw/external/python/anaconda3/lib/python3.9/site-packages (from graphcast==0.1) (4.7.1)\n",
      "Requirement already satisfied: xarray in /sw/external/python/anaconda3/lib/python3.9/site-packages (from graphcast==0.1) (2023.6.0)\n",
      "Requirement already satisfied: shapely>=1.7 in /u/nhaque/.local/lib/python3.9/site-packages (from cartopy->graphcast==0.1) (2.0.3)\n",
      "Requirement already satisfied: packaging>=20 in /sw/external/python/anaconda3/lib/python3.9/site-packages (from cartopy->graphcast==0.1) (23.1)\n",
      "Requirement already satisfied: pyshp>=2.1 in /u/nhaque/.local/lib/python3.9/site-packages (from cartopy->graphcast==0.1) (2.3.1)\n",
      "Requirement already satisfied: pyproj>=3.1.0 in /u/nhaque/.local/lib/python3.9/site-packages (from cartopy->graphcast==0.1) (3.6.1)\n",
      "Requirement already satisfied: contourpy>=1.0.1 in /sw/external/python/anaconda3/lib/python3.9/site-packages (from matplotlib->graphcast==0.1) (1.0.5)\n",
      "Requirement already satisfied: cycler>=0.10 in /sw/external/python/anaconda3/lib/python3.9/site-packages (from matplotlib->graphcast==0.1) (0.11.0)\n",
      "Requirement already satisfied: fonttools>=4.22.0 in /sw/external/python/anaconda3/lib/python3.9/site-packages (from matplotlib->graphcast==0.1) (4.25.0)\n",
      "Requirement already satisfied: kiwisolver>=1.0.1 in /sw/external/python/anaconda3/lib/python3.9/site-packages (from matplotlib->graphcast==0.1) (1.4.4)\n",
      "Requirement already satisfied: pillow>=6.2.0 in /sw/external/python/anaconda3/lib/python3.9/site-packages (from matplotlib->graphcast==0.1) (9.4.0)\n",
      "Requirement already satisfied: pyparsing<3.1,>=2.3.1 in /sw/external/python/anaconda3/lib/python3.9/site-packages (from matplotlib->graphcast==0.1) (3.0.9)\n",
      "Requirement already satisfied: python-dateutil>=2.7 in /sw/external/python/anaconda3/lib/python3.9/site-packages (from matplotlib->graphcast==0.1) (2.8.2)\n",
      "Requirement already satisfied: importlib-resources>=3.2.0 in /sw/external/python/anaconda3/lib/python3.9/site-packages (from matplotlib->graphcast==0.1) (5.2.0)\n",
      "Requirement already satisfied: absl-py>=0.9.0 in /sw/external/python/anaconda3/lib/python3.9/site-packages (from chex->graphcast==0.1) (1.1.0)\n",
      "Requirement already satisfied: jaxlib>=0.1.37 in /u/nhaque/.local/lib/python3.9/site-packages (from chex->graphcast==0.1) (0.4.25)\n",
      "Requirement already satisfied: toolz>=0.9.0 in /sw/external/python/anaconda3/lib/python3.9/site-packages (from chex->graphcast==0.1) (0.12.0)\n",
      "Requirement already satisfied: ml-dtypes>=0.2.0 in /u/nhaque/.local/lib/python3.9/site-packages (from jax->graphcast==0.1) (0.3.2)\n",
      "Requirement already satisfied: opt-einsum in /sw/external/python/anaconda3/lib/python3.9/site-packages (from jax->graphcast==0.1) (3.3.0)\n",
      "Requirement already satisfied: importlib-metadata>=4.6 in /sw/external/python/anaconda3/lib/python3.9/site-packages (from jax->graphcast==0.1) (6.0.0)\n",
      "Requirement already satisfied: click>=8.0 in /sw/external/python/anaconda3/lib/python3.9/site-packages (from dask->graphcast==0.1) (8.0.4)\n",
      "Requirement already satisfied: cloudpickle>=1.5.0 in /sw/external/python/anaconda3/lib/python3.9/site-packages (from dask->graphcast==0.1) (2.2.1)\n",
      "Requirement already satisfied: fsspec>=2021.09.0 in /sw/external/python/anaconda3/lib/python3.9/site-packages (from dask->graphcast==0.1) (2022.5.0)\n",
      "Requirement already satisfied: partd>=1.2.0 in /sw/external/python/anaconda3/lib/python3.9/site-packages (from dask->graphcast==0.1) (1.4.0)\n",
      "Requirement already satisfied: pyyaml>=5.3.1 in /sw/external/python/anaconda3/lib/python3.9/site-packages (from dask->graphcast==0.1) (5.4.1)\n",
      "Requirement already satisfied: jmp>=0.0.2 in /u/nhaque/.local/lib/python3.9/site-packages (from dm-haiku->graphcast==0.1) (0.0.4)\n",
      "Requirement already satisfied: tabulate>=0.8.9 in /sw/external/python/anaconda3/lib/python3.9/site-packages (from dm-haiku->graphcast==0.1) (0.8.10)\n",
      "Requirement already satisfied: flax>=0.7.1 in /u/nhaque/.local/lib/python3.9/site-packages (from dm-haiku->graphcast==0.1) (0.8.1)\n",
      "Requirement already satisfied: pytz>=2020.1 in /sw/external/python/anaconda3/lib/python3.9/site-packages (from pandas->graphcast==0.1) (2023.3.post1)\n",
      "Requirement already satisfied: tzdata>=2022.1 in /sw/external/python/anaconda3/lib/python3.9/site-packages (from pandas->graphcast==0.1) (2023.3)\n",
      "Requirement already satisfied: msgpack in /sw/external/python/anaconda3/lib/python3.9/site-packages (from flax>=0.7.1->dm-haiku->graphcast==0.1) (1.0.3)\n",
      "Requirement already satisfied: optax in /u/nhaque/.local/lib/python3.9/site-packages (from flax>=0.7.1->dm-haiku->graphcast==0.1) (0.1.9)\n",
      "Requirement already satisfied: orbax-checkpoint in /u/nhaque/.local/lib/python3.9/site-packages (from flax>=0.7.1->dm-haiku->graphcast==0.1) (0.5.3)\n",
      "Requirement already satisfied: tensorstore in /u/nhaque/.local/lib/python3.9/site-packages (from flax>=0.7.1->dm-haiku->graphcast==0.1) (0.1.54)\n",
      "Requirement already satisfied: rich>=11.1 in /u/nhaque/.local/lib/python3.9/site-packages (from flax>=0.7.1->dm-haiku->graphcast==0.1) (13.7.0)\n",
      "Requirement already satisfied: zipp>=0.5 in /sw/external/python/anaconda3/lib/python3.9/site-packages (from importlib-metadata>=4.6->jax->graphcast==0.1) (3.11.0)\n",
      "Requirement already satisfied: locket in /sw/external/python/anaconda3/lib/python3.9/site-packages (from partd>=1.2.0->dask->graphcast==0.1) (1.0.0)\n",
      "Requirement already satisfied: certifi in /sw/external/python/anaconda3/lib/python3.9/site-packages (from pyproj>=3.1.0->cartopy->graphcast==0.1) (2023.7.22)\n",
      "Requirement already satisfied: six>=1.5 in /sw/external/python/anaconda3/lib/python3.9/site-packages (from python-dateutil>=2.7->matplotlib->graphcast==0.1) (1.16.0)\n",
      "Requirement already satisfied: markdown-it-py>=2.2.0 in /sw/external/python/anaconda3/lib/python3.9/site-packages (from rich>=11.1->flax>=0.7.1->dm-haiku->graphcast==0.1) (2.2.0)\n",
      "Requirement already satisfied: pygments<3.0.0,>=2.13.0 in /sw/external/python/anaconda3/lib/python3.9/site-packages (from rich>=11.1->flax>=0.7.1->dm-haiku->graphcast==0.1) (2.15.1)\n",
      "Requirement already satisfied: etils[epath,epy] in /sw/external/python/anaconda3/lib/python3.9/site-packages (from orbax-checkpoint->flax>=0.7.1->dm-haiku->graphcast==0.1) (0.7.1)\n",
      "Requirement already satisfied: nest_asyncio in /sw/external/python/anaconda3/lib/python3.9/site-packages (from orbax-checkpoint->flax>=0.7.1->dm-haiku->graphcast==0.1) (1.5.6)\n",
      "Requirement already satisfied: protobuf in /sw/external/python/anaconda3/lib/python3.9/site-packages (from orbax-checkpoint->flax>=0.7.1->dm-haiku->graphcast==0.1) (3.20.3)\n",
      "Requirement already satisfied: mdurl~=0.1 in /sw/external/python/anaconda3/lib/python3.9/site-packages (from markdown-it-py>=2.2.0->rich>=11.1->flax>=0.7.1->dm-haiku->graphcast==0.1) (0.1.0)\n",
      "Note: you may need to restart the kernel to use updated packages.\n"
     ]
    }
   ],
   "source": [
    "%pip install --upgrade https://github.com/deepmind/graphcast/archive/master.zip"
   ]
  },
  {
   "cell_type": "code",
   "execution_count": 1,
   "metadata": {
    "tags": []
   },
   "outputs": [
    {
     "name": "stdout",
     "output_type": "stream",
     "text": [
      "Python 3.9.18\n"
     ]
    }
   ],
   "source": [
    "!python3 --version"
   ]
  },
  {
   "cell_type": "code",
   "execution_count": 3,
   "metadata": {},
   "outputs": [
    {
     "name": "stdout",
     "output_type": "stream",
     "text": [
      "ERROR: unknown command \"upgrade\"\n"
     ]
    }
   ],
   "source": [
    "!pip upgrade python"
   ]
  },
  {
   "cell_type": "code",
   "execution_count": 2,
   "metadata": {
    "cellView": "form",
    "id": "MA5087Vb29z2",
    "tags": []
   },
   "outputs": [
    {
     "name": "stdout",
     "output_type": "stream",
     "text": [
      "Defaulting to user installation because normal site-packages is not writeable\n",
      "Requirement already satisfied: shapely in /u/nhaque/.local/lib/python3.9/site-packages (2.0.3)\n",
      "Requirement already satisfied: numpy<2,>=1.14 in /sw/external/python/anaconda3/lib/python3.9/site-packages (from shapely) (1.24.3)\n"
     ]
    }
   ],
   "source": [
    "!pip install shapely --no-binary shapely"
   ]
  },
  {
   "cell_type": "code",
   "execution_count": 3,
   "metadata": {
    "tags": []
   },
   "outputs": [
    {
     "name": "stdout",
     "output_type": "stream",
     "text": [
      "Defaulting to user installation because normal site-packages is not writeable\n",
      "Requirement already satisfied: dataclasses in /u/nhaque/.local/lib/python3.9/site-packages (0.6)\n"
     ]
    }
   ],
   "source": [
    "!pip install dataclasses"
   ]
  },
  {
   "cell_type": "code",
   "execution_count": 4,
   "metadata": {
    "tags": []
   },
   "outputs": [
    {
     "name": "stdout",
     "output_type": "stream",
     "text": [
      "Defaulting to user installation because normal site-packages is not writeable\n",
      "Requirement already satisfied: cartopy in /u/nhaque/.local/lib/python3.9/site-packages (0.22.0)\n",
      "Requirement already satisfied: numpy>=1.21 in /sw/external/python/anaconda3/lib/python3.9/site-packages (from cartopy) (1.24.3)\n",
      "Requirement already satisfied: matplotlib>=3.4 in /sw/external/python/anaconda3/lib/python3.9/site-packages (from cartopy) (3.7.2)\n",
      "Requirement already satisfied: shapely>=1.7 in /u/nhaque/.local/lib/python3.9/site-packages (from cartopy) (2.0.3)\n",
      "Requirement already satisfied: packaging>=20 in /sw/external/python/anaconda3/lib/python3.9/site-packages (from cartopy) (23.1)\n",
      "Requirement already satisfied: pyshp>=2.1 in /u/nhaque/.local/lib/python3.9/site-packages (from cartopy) (2.3.1)\n",
      "Requirement already satisfied: pyproj>=3.1.0 in /u/nhaque/.local/lib/python3.9/site-packages (from cartopy) (3.6.1)\n",
      "Requirement already satisfied: contourpy>=1.0.1 in /sw/external/python/anaconda3/lib/python3.9/site-packages (from matplotlib>=3.4->cartopy) (1.0.5)\n",
      "Requirement already satisfied: cycler>=0.10 in /sw/external/python/anaconda3/lib/python3.9/site-packages (from matplotlib>=3.4->cartopy) (0.11.0)\n",
      "Requirement already satisfied: fonttools>=4.22.0 in /sw/external/python/anaconda3/lib/python3.9/site-packages (from matplotlib>=3.4->cartopy) (4.25.0)\n",
      "Requirement already satisfied: kiwisolver>=1.0.1 in /sw/external/python/anaconda3/lib/python3.9/site-packages (from matplotlib>=3.4->cartopy) (1.4.4)\n",
      "Requirement already satisfied: pillow>=6.2.0 in /sw/external/python/anaconda3/lib/python3.9/site-packages (from matplotlib>=3.4->cartopy) (9.4.0)\n",
      "Requirement already satisfied: pyparsing<3.1,>=2.3.1 in /sw/external/python/anaconda3/lib/python3.9/site-packages (from matplotlib>=3.4->cartopy) (3.0.9)\n",
      "Requirement already satisfied: python-dateutil>=2.7 in /sw/external/python/anaconda3/lib/python3.9/site-packages (from matplotlib>=3.4->cartopy) (2.8.2)\n",
      "Requirement already satisfied: importlib-resources>=3.2.0 in /sw/external/python/anaconda3/lib/python3.9/site-packages (from matplotlib>=3.4->cartopy) (5.2.0)\n",
      "Requirement already satisfied: certifi in /sw/external/python/anaconda3/lib/python3.9/site-packages (from pyproj>=3.1.0->cartopy) (2023.7.22)\n",
      "Requirement already satisfied: zipp>=3.1.0 in /sw/external/python/anaconda3/lib/python3.9/site-packages (from importlib-resources>=3.2.0->matplotlib>=3.4->cartopy) (3.11.0)\n",
      "Requirement already satisfied: six>=1.5 in /sw/external/python/anaconda3/lib/python3.9/site-packages (from python-dateutil>=2.7->matplotlib>=3.4->cartopy) (1.16.0)\n"
     ]
    }
   ],
   "source": [
    "!pip3 install cartopy"
   ]
  },
  {
   "cell_type": "code",
   "execution_count": 4,
   "metadata": {
    "tags": []
   },
   "outputs": [
    {
     "name": "stdout",
     "output_type": "stream",
     "text": [
      "Defaulting to user installation because normal site-packages is not writeable\n",
      "Requirement already satisfied: google.cloud in /u/nhaque/.local/lib/python3.9/site-packages (0.34.0)\n"
     ]
    }
   ],
   "source": [
    "!python3 -m pip install google.cloud"
   ]
  },
  {
   "cell_type": "code",
   "execution_count": 13,
   "metadata": {
    "tags": []
   },
   "outputs": [
    {
     "name": "stdout",
     "output_type": "stream",
     "text": [
      "Defaulting to user installation because normal site-packages is not writeable\n",
      "Requirement already satisfied: jax in /u/nhaque/.local/lib/python3.9/site-packages (0.4.25)\n",
      "Requirement already satisfied: jaxlib in /u/nhaque/.local/lib/python3.9/site-packages (0.4.19)\n",
      "Collecting jaxlib\n",
      "  Obtaining dependency information for jaxlib from https://files.pythonhosted.org/packages/f0/b6/28cb7de0aae486680fa81b36e81c5056ea165a46207359e4250fc413d3c7/jaxlib-0.4.25-cp39-cp39-manylinux2014_x86_64.whl.metadata\n",
      "  Downloading jaxlib-0.4.25-cp39-cp39-manylinux2014_x86_64.whl.metadata (2.1 kB)\n",
      "Requirement already satisfied: ml-dtypes>=0.2.0 in /u/nhaque/.local/lib/python3.9/site-packages (from jax) (0.3.2)\n",
      "Requirement already satisfied: numpy>=1.22 in /sw/external/python/anaconda3/lib/python3.9/site-packages (from jax) (1.24.3)\n",
      "Requirement already satisfied: opt-einsum in /sw/external/python/anaconda3/lib/python3.9/site-packages (from jax) (3.3.0)\n",
      "Requirement already satisfied: scipy>=1.9 in /u/nhaque/.local/lib/python3.9/site-packages (from jax) (1.12.0)\n",
      "Requirement already satisfied: importlib-metadata>=4.6 in /sw/external/python/anaconda3/lib/python3.9/site-packages (from jax) (6.0.0)\n",
      "Requirement already satisfied: zipp>=0.5 in /sw/external/python/anaconda3/lib/python3.9/site-packages (from importlib-metadata>=4.6->jax) (3.11.0)\n",
      "Downloading jaxlib-0.4.25-cp39-cp39-manylinux2014_x86_64.whl (79.2 MB)\n",
      "\u001b[2K   \u001b[90m━━━━━━━━━━━━━━━━━━━━━━━━━━━━━━━━━━━━━━━━\u001b[0m \u001b[32m79.2/79.2 MB\u001b[0m \u001b[31m14.7 MB/s\u001b[0m eta \u001b[36m0:00:00\u001b[0m00:01\u001b[0m00:01\u001b[0m\n",
      "\u001b[?25hInstalling collected packages: jaxlib\n",
      "  Attempting uninstall: jaxlib\n",
      "    Found existing installation: jaxlib 0.4.19\n",
      "    Uninstalling jaxlib-0.4.19:\n",
      "      Successfully uninstalled jaxlib-0.4.19\n",
      "Successfully installed jaxlib-0.4.25\n"
     ]
    }
   ],
   "source": [
    "!pip3 install -U jax jaxlib"
   ]
  },
  {
   "cell_type": "code",
   "execution_count": 6,
   "metadata": {
    "tags": []
   },
   "outputs": [
    {
     "data": {
      "text/plain": [
       "pandas._libs.tslibs.timestamps.Timestamp"
      ]
     },
     "execution_count": 6,
     "metadata": {},
     "output_type": "execute_result"
    }
   ],
   "source": [
    "import datetime\n",
    "pd.Timestamp\n",
    "!pip install google-cloud-storage"
   ]
  },
  {
   "cell_type": "code",
   "execution_count": 1,
   "metadata": {
    "cellView": "form",
    "id": "Z_j8ej4Pyg1L",
    "tags": []
   },
   "outputs": [
    {
     "ename": "TypeError",
     "evalue": "unsupported operand type(s) for |: 'type' and 'type'",
     "output_type": "error",
     "traceback": [
      "\u001b[0;31m---------------------------------------------------------------------------\u001b[0m",
      "\u001b[0;31mTypeError\u001b[0m                                 Traceback (most recent call last)",
      "Cell \u001b[0;32mIn[1], line 15\u001b[0m\n\u001b[1;32m     13\u001b[0m \u001b[38;5;28;01mfrom\u001b[39;00m \u001b[38;5;21;01mgraphcast\u001b[39;00m \u001b[38;5;28;01mimport\u001b[39;00m casting\n\u001b[1;32m     14\u001b[0m \u001b[38;5;28;01mfrom\u001b[39;00m \u001b[38;5;21;01mgraphcast\u001b[39;00m \u001b[38;5;28;01mimport\u001b[39;00m checkpoint\n\u001b[0;32m---> 15\u001b[0m \u001b[38;5;28;01mfrom\u001b[39;00m \u001b[38;5;21;01mgraphcast\u001b[39;00m \u001b[38;5;28;01mimport\u001b[39;00m data_utils\n\u001b[1;32m     16\u001b[0m \u001b[38;5;28;01mfrom\u001b[39;00m \u001b[38;5;21;01mgraphcast\u001b[39;00m \u001b[38;5;28;01mimport\u001b[39;00m graphcast\n\u001b[1;32m     17\u001b[0m \u001b[38;5;28;01mfrom\u001b[39;00m \u001b[38;5;21;01mgraphcast\u001b[39;00m \u001b[38;5;28;01mimport\u001b[39;00m normalization\n",
      "File \u001b[0;32m~/GraphCast/graphcast/data_utils.py:18\u001b[0m\n\u001b[1;32m     14\u001b[0m \u001b[38;5;124;03m\"\"\"Dataset utilities.\"\"\"\u001b[39;00m\n\u001b[1;32m     16\u001b[0m \u001b[38;5;28;01mfrom\u001b[39;00m \u001b[38;5;21;01mtyping\u001b[39;00m \u001b[38;5;28;01mimport\u001b[39;00m Any, Mapping, Sequence, Tuple, Union\n\u001b[0;32m---> 18\u001b[0m \u001b[38;5;28;01mfrom\u001b[39;00m \u001b[38;5;21;01mgraphcast\u001b[39;00m \u001b[38;5;28;01mimport\u001b[39;00m solar_radiation\n\u001b[1;32m     19\u001b[0m \u001b[38;5;28;01mimport\u001b[39;00m \u001b[38;5;21;01mnumpy\u001b[39;00m \u001b[38;5;28;01mas\u001b[39;00m \u001b[38;5;21;01mnp\u001b[39;00m\n\u001b[1;32m     20\u001b[0m \u001b[38;5;28;01mimport\u001b[39;00m \u001b[38;5;21;01mpandas\u001b[39;00m \u001b[38;5;28;01mas\u001b[39;00m \u001b[38;5;21;01mpd\u001b[39;00m\n",
      "File \u001b[0;32m~/GraphCast/graphcast/solar_radiation.py:55\u001b[0m\n\u001b[1;32m     51\u001b[0m \u001b[38;5;66;03m# Number of seconds in a day.\u001b[39;00m\n\u001b[1;32m     52\u001b[0m _SECONDS_PER_DAY \u001b[38;5;241m=\u001b[39m \u001b[38;5;241m60\u001b[39m \u001b[38;5;241m*\u001b[39m \u001b[38;5;241m60\u001b[39m \u001b[38;5;241m*\u001b[39m \u001b[38;5;241m24\u001b[39m\n\u001b[0;32m---> 55\u001b[0m _TimestampLike \u001b[38;5;241m=\u001b[39m \u001b[38;5;28;43mstr\u001b[39;49m\u001b[43m \u001b[49m\u001b[38;5;241;43m|\u001b[39;49m\u001b[43m \u001b[49m\u001b[43mpd\u001b[49m\u001b[38;5;241;43m.\u001b[39;49m\u001b[43mTimestamp\u001b[49m \u001b[38;5;241m|\u001b[39m np\u001b[38;5;241m.\u001b[39mdatetime64\n\u001b[1;32m     56\u001b[0m _TimedeltaLike \u001b[38;5;241m=\u001b[39m \u001b[38;5;28mstr\u001b[39m \u001b[38;5;241m|\u001b[39m pd\u001b[38;5;241m.\u001b[39mTimedelta \u001b[38;5;241m|\u001b[39m np\u001b[38;5;241m.\u001b[39mtimedelta64\n\u001b[1;32m     59\u001b[0m \u001b[38;5;66;03m# Interface for loading Total Solar Irradiance (TSI) data.\u001b[39;00m\n\u001b[1;32m     60\u001b[0m \u001b[38;5;66;03m# Returns a xa.DataArray containing yearly average TSI values with a `time`\u001b[39;00m\n\u001b[1;32m     61\u001b[0m \u001b[38;5;66;03m# coordinate in units of years since 0000-1-1. E.g. 2023.5 corresponds to\u001b[39;00m\n\u001b[1;32m     62\u001b[0m \u001b[38;5;66;03m# the middle of the year 2023.\u001b[39;00m\n",
      "\u001b[0;31mTypeError\u001b[0m: unsupported operand type(s) for |: 'type' and 'type'"
     ]
    }
   ],
   "source": [
    "# @title Imports\n",
    "\n",
    "import dataclasses\n",
    "import datetime\n",
    "import functools\n",
    "import math\n",
    "import re\n",
    "from typing import Optional\n",
    "import pandas as pd\n",
    "import cartopy.crs as ccrs\n",
    "from google.cloud import storage\n",
    "from graphcast import autoregressive\n",
    "from graphcast import casting\n",
    "from graphcast import checkpoint\n",
    "from graphcast import data_utils\n",
    "from graphcast import graphcast\n",
    "from graphcast import normalization\n",
    "from graphcast import rollout\n",
    "from graphcast import xarray_jax\n",
    "from graphcast import xarray_tree\n",
    "from IPython.display import HTML\n",
    "import ipywidgets as widgets\n",
    "import haiku as hk\n",
    "import jax\n",
    "import matplotlib\n",
    "import matplotlib.pyplot as plt\n",
    "from matplotlib import animation\n",
    "import numpy as np\n",
    "import xarray\n",
    "\n",
    "\n",
    "def parse_file_parts(file_name):\n",
    "  return dict(part.split(\"-\", 1) for part in file_name.split(\"_\"))\n"
   ]
  },
  {
   "cell_type": "code",
   "execution_count": 8,
   "metadata": {
    "cellView": "form",
    "id": "4wagX1TL_f15"
   },
   "outputs": [],
   "source": [
    "# @title Authenticate with Google Cloud Storage\n",
    "\n",
    "gcs_client = storage.Client.create_anonymous_client()\n",
    "gcs_bucket = gcs_client.get_bucket(\"dm_graphcast\")"
   ]
  },
  {
   "cell_type": "code",
   "execution_count": 9,
   "metadata": {
    "cellView": "form",
    "id": "5JUymx84dI2m"
   },
   "outputs": [],
   "source": [
    "# @title Plotting functions\n",
    "\n",
    "def select(\n",
    "    data: xarray.Dataset,\n",
    "    variable: str,\n",
    "    level: Optional[int] = None,\n",
    "    max_steps: Optional[int] = None\n",
    "    ) -> xarray.Dataset:\n",
    "  data = data[variable]\n",
    "  if \"batch\" in data.dims:\n",
    "    data = data.isel(batch=0)\n",
    "  if max_steps is not None and \"time\" in data.sizes and max_steps < data.sizes[\"time\"]:\n",
    "    data = data.isel(time=range(0, max_steps))\n",
    "  if level is not None and \"level\" in data.coords:\n",
    "    data = data.sel(level=level)\n",
    "  return data\n",
    "\n",
    "def scale(\n",
    "    data: xarray.Dataset,\n",
    "    center: Optional[float] = None,\n",
    "    robust: bool = False,\n",
    "    ) -> tuple[xarray.Dataset, matplotlib.colors.Normalize, str]:\n",
    "  vmin = np.nanpercentile(data, (2 if robust else 0))\n",
    "  vmax = np.nanpercentile(data, (98 if robust else 100))\n",
    "  if center is not None:\n",
    "    diff = max(vmax - center, center - vmin)\n",
    "    vmin = center - diff\n",
    "    vmax = center + diff\n",
    "  return (data, matplotlib.colors.Normalize(vmin, vmax),\n",
    "          (\"RdBu_r\" if center is not None else \"viridis\"))\n",
    "\n",
    "def plot_data(\n",
    "    data: dict[str, xarray.Dataset],\n",
    "    fig_title: str,\n",
    "    plot_size: float = 5,\n",
    "    robust: bool = False,\n",
    "    cols: int = 4\n",
    "    ) -> tuple[xarray.Dataset, matplotlib.colors.Normalize, str]:\n",
    "\n",
    "  first_data = next(iter(data.values()))[0]\n",
    "  max_steps = first_data.sizes.get(\"time\", 1)\n",
    "  assert all(max_steps == d.sizes.get(\"time\", 1) for d, _, _ in data.values())\n",
    "\n",
    "  cols = min(cols, len(data))\n",
    "  rows = math.ceil(len(data) / cols)\n",
    "  figure = plt.figure(figsize=(plot_size * 2 * cols,\n",
    "                               plot_size * rows))\n",
    "  figure.suptitle(fig_title, fontsize=16)\n",
    "  figure.subplots_adjust(wspace=0, hspace=0)\n",
    "  figure.tight_layout()\n",
    "\n",
    "  images = []\n",
    "  for i, (title, (plot_data, norm, cmap)) in enumerate(data.items()):\n",
    "    ax = figure.add_subplot(rows, cols, i+1)\n",
    "    ax.set_xticks([])\n",
    "    ax.set_yticks([])\n",
    "    ax.set_title(title)\n",
    "    im = ax.imshow(\n",
    "        plot_data.isel(time=0, missing_dims=\"ignore\"), norm=norm,\n",
    "        origin=\"lower\", cmap=cmap)\n",
    "    plt.colorbar(\n",
    "        mappable=im,\n",
    "        ax=ax,\n",
    "        orientation=\"vertical\",\n",
    "        pad=0.02,\n",
    "        aspect=16,\n",
    "        shrink=0.75,\n",
    "        cmap=cmap,\n",
    "        extend=(\"both\" if robust else \"neither\"))\n",
    "    images.append(im)\n",
    "\n",
    "  def update(frame):\n",
    "    if \"time\" in first_data.dims:\n",
    "      td = datetime.timedelta(microseconds=first_data[\"time\"][frame].item() / 1000)\n",
    "      figure.suptitle(f\"{fig_title}, {td}\", fontsize=16)\n",
    "    else:\n",
    "      figure.suptitle(fig_title, fontsize=16)\n",
    "    for im, (plot_data, norm, cmap) in zip(images, data.values()):\n",
    "      im.set_data(plot_data.isel(time=frame, missing_dims=\"ignore\"))\n",
    "\n",
    "  ani = animation.FuncAnimation(\n",
    "      fig=figure, func=update, frames=max_steps, interval=250)\n",
    "  plt.close(figure.number)\n",
    "  return HTML(ani.to_jshtml())"
   ]
  },
  {
   "cell_type": "markdown",
   "metadata": {
    "id": "WEtSV8HEkHtf"
   },
   "source": [
    "# Load the Data and initialize the model"
   ]
  },
  {
   "cell_type": "markdown",
   "metadata": {
    "id": "G50ORsY_dI2n"
   },
   "source": [
    "## Load the model params\n",
    "\n",
    "Choose one of the two ways of getting model params:\n",
    "- **random**: You'll get random predictions, but you can change the model architecture, which may run faster or fit on your device.\n",
    "- **checkpoint**: You'll get sensible predictions, but are limited to the model architecture that it was trained with, which may not fit on your device. In particular generating gradients uses a lot of memory, so you'll need at least 25GB of ram (TPUv4 or A100).\n",
    "\n",
    "Checkpoints vary across a few axes:\n",
    "- The mesh size specifies the internal graph representation of the earth. Smaller meshes will run faster but will have worse outputs. The mesh size does not affect the number of parameters of the model.\n",
    "- The resolution and number of pressure levels must match the data. Lower resolution and fewer levels will run a bit faster. Data resolution only affects the encoder/decoder.\n",
    "- All our models predict precipitation. However, ERA5 includes precipitation, while HRES does not. Our models marked as \"ERA5\" take precipitation as input and expect ERA5 data as input, while model marked \"ERA5-HRES\" do not take precipitation as input and are specifically trained to take HRES-fc0 as input (see the data section below).\n",
    "\n",
    "We provide three pre-trained models.\n",
    "1. `GraphCast`, the high-resolution model used in the GraphCast paper (0.25 degree resolution, 37 pressure levels), trained on ERA5 data from 1979 to 2017,\n",
    "\n",
    "2. `GraphCast_small`, a smaller, low-resolution version of GraphCast (1 degree resolution, 13 pressure levels, and a smaller mesh), trained on ERA5 data from 1979 to 2015, useful to run a model with lower memory and compute constraints,\n",
    "\n",
    "3. `GraphCast_operational`, a high-resolution model (0.25 degree resolution, 13 pressure levels) pre-trained on ERA5 data from 1979 to 2017 and fine-tuned on HRES data from 2016 to 2021. This model can be initialized from HRES data (does not require precipitation inputs).\n"
   ]
  },
  {
   "cell_type": "code",
   "execution_count": 10,
   "metadata": {
    "cellView": "form",
    "id": "KGaJ6V9MdI2n"
   },
   "outputs": [
    {
     "data": {
      "application/vnd.jupyter.widget-view+json": {
       "model_id": "f67ae80077a04620a97dbbe02c55e21e",
       "version_major": 2,
       "version_minor": 0
      },
      "text/plain": [
       "VBox(children=(Tab(children=(VBox(children=(IntSlider(value=4, description='Mesh size:', max=6, min=4), IntSli…"
      ]
     },
     "execution_count": 10,
     "metadata": {},
     "output_type": "execute_result"
    }
   ],
   "source": [
    "# @title Choose the model\n",
    "\n",
    "params_file_options = [\n",
    "    name for blob in gcs_bucket.list_blobs(prefix=\"params/\")\n",
    "    if (name := blob.name.removeprefix(\"params/\"))]  # Drop empty string.\n",
    "\n",
    "random_mesh_size = widgets.IntSlider(\n",
    "    value=4, min=4, max=6, description=\"Mesh size:\")\n",
    "random_gnn_msg_steps = widgets.IntSlider(\n",
    "    value=4, min=1, max=32, description=\"GNN message steps:\")\n",
    "random_latent_size = widgets.Dropdown(\n",
    "    options=[int(2**i) for i in range(4, 10)], value=32,description=\"Latent size:\")\n",
    "random_levels = widgets.Dropdown(\n",
    "    options=[13, 37], value=13, description=\"Pressure levels:\")\n",
    "\n",
    "\n",
    "params_file = widgets.Dropdown(\n",
    "    options=params_file_options,\n",
    "    description=\"Params file:\",\n",
    "    layout={\"width\": \"max-content\"})\n",
    "\n",
    "source_tab = widgets.Tab([\n",
    "    widgets.VBox([\n",
    "        random_mesh_size,\n",
    "        random_gnn_msg_steps,\n",
    "        random_latent_size,\n",
    "        random_levels,\n",
    "    ]),\n",
    "    params_file,\n",
    "])\n",
    "source_tab.set_title(0, \"Random\")\n",
    "source_tab.set_title(1, \"Checkpoint\")\n",
    "widgets.VBox([\n",
    "    source_tab,\n",
    "    widgets.Label(value=\"Run the next cell to load the model. Rerunning this cell clears your selection.\")\n",
    "])\n"
   ]
  },
  {
   "cell_type": "code",
   "execution_count": 11,
   "metadata": {
    "cellView": "form",
    "id": "lYQgrPgPdI2n"
   },
   "outputs": [
    {
     "ename": "TypeError",
     "evalue": "typing.Union cannot be used with isinstance()",
     "output_type": "error",
     "traceback": [
      "\u001b[0;31m---------------------------------------------------------------------------\u001b[0m",
      "\u001b[0;31mTypeError\u001b[0m                                 Traceback (most recent call last)",
      "Cell \u001b[0;32mIn[11], line 25\u001b[0m\n\u001b[1;32m     23\u001b[0m \u001b[38;5;28;01massert\u001b[39;00m source \u001b[38;5;241m==\u001b[39m \u001b[38;5;124m\"\u001b[39m\u001b[38;5;124mCheckpoint\u001b[39m\u001b[38;5;124m\"\u001b[39m\n\u001b[1;32m     24\u001b[0m \u001b[38;5;28;01mwith\u001b[39;00m gcs_bucket\u001b[38;5;241m.\u001b[39mblob(\u001b[38;5;124mf\u001b[39m\u001b[38;5;124m\"\u001b[39m\u001b[38;5;124mparams/\u001b[39m\u001b[38;5;132;01m{\u001b[39;00mparams_file\u001b[38;5;241m.\u001b[39mvalue\u001b[38;5;132;01m}\u001b[39;00m\u001b[38;5;124m\"\u001b[39m)\u001b[38;5;241m.\u001b[39mopen(\u001b[38;5;124m\"\u001b[39m\u001b[38;5;124mrb\u001b[39m\u001b[38;5;124m\"\u001b[39m) \u001b[38;5;28;01mas\u001b[39;00m f:\n\u001b[0;32m---> 25\u001b[0m   ckpt \u001b[38;5;241m=\u001b[39m \u001b[43mcheckpoint\u001b[49m\u001b[38;5;241;43m.\u001b[39;49m\u001b[43mload\u001b[49m\u001b[43m(\u001b[49m\u001b[43mf\u001b[49m\u001b[43m,\u001b[49m\u001b[43m \u001b[49m\u001b[43mgraphcast\u001b[49m\u001b[38;5;241;43m.\u001b[39;49m\u001b[43mCheckPoint\u001b[49m\u001b[43m)\u001b[49m\n\u001b[1;32m     26\u001b[0m params \u001b[38;5;241m=\u001b[39m ckpt\u001b[38;5;241m.\u001b[39mparams\n\u001b[1;32m     27\u001b[0m state \u001b[38;5;241m=\u001b[39m {}\n",
      "File \u001b[0;32m~/GraphCast/graphcast/checkpoint.py:53\u001b[0m, in \u001b[0;36mload\u001b[0;34m(source, typ)\u001b[0m\n\u001b[1;32m     41\u001b[0m \u001b[38;5;28;01mdef\u001b[39;00m \u001b[38;5;21mload\u001b[39m(source: BinaryIO, typ: \u001b[38;5;28mtype\u001b[39m[_T]) \u001b[38;5;241m-\u001b[39m\u001b[38;5;241m>\u001b[39m _T:\n\u001b[1;32m     42\u001b[0m \u001b[38;5;250m  \u001b[39m\u001b[38;5;124;03m\"\"\"Load from a file object and convert it to the specified type.\u001b[39;00m\n\u001b[1;32m     43\u001b[0m \n\u001b[1;32m     44\u001b[0m \u001b[38;5;124;03m  Args:\u001b[39;00m\n\u001b[0;32m   (...)\u001b[0m\n\u001b[1;32m     51\u001b[0m \u001b[38;5;124;03m    the deserialized value as the specified type.\u001b[39;00m\n\u001b[1;32m     52\u001b[0m \u001b[38;5;124;03m  \"\"\"\u001b[39;00m\n\u001b[0;32m---> 53\u001b[0m   \u001b[38;5;28;01mreturn\u001b[39;00m \u001b[43m_convert_types\u001b[49m\u001b[43m(\u001b[49m\u001b[43mtyp\u001b[49m\u001b[43m,\u001b[49m\u001b[43m \u001b[49m\u001b[43m_unflatten\u001b[49m\u001b[43m(\u001b[49m\u001b[43mnp\u001b[49m\u001b[38;5;241;43m.\u001b[39;49m\u001b[43mload\u001b[49m\u001b[43m(\u001b[49m\u001b[43msource\u001b[49m\u001b[43m)\u001b[49m\u001b[43m)\u001b[49m\u001b[43m)\u001b[49m\n",
      "File \u001b[0;32m~/GraphCast/graphcast/checkpoint.py:116\u001b[0m, in \u001b[0;36m_convert_types\u001b[0;34m(typ, value)\u001b[0m\n\u001b[1;32m    110\u001b[0m kwargs \u001b[38;5;241m=\u001b[39m {}\n\u001b[1;32m    111\u001b[0m \u001b[38;5;28;01mfor\u001b[39;00m f \u001b[38;5;129;01min\u001b[39;00m dataclasses\u001b[38;5;241m.\u001b[39mfields(typ):\n\u001b[1;32m    112\u001b[0m   \u001b[38;5;66;03m# Only support Optional for dataclasses, as numpy can't serialize it\u001b[39;00m\n\u001b[1;32m    113\u001b[0m   \u001b[38;5;66;03m# directly (without pickle), and dataclasses are the only case where we\u001b[39;00m\n\u001b[1;32m    114\u001b[0m   \u001b[38;5;66;03m# can know the full set of values and types and therefore know the\u001b[39;00m\n\u001b[1;32m    115\u001b[0m   \u001b[38;5;66;03m# non-existence must mean None.\u001b[39;00m\n\u001b[0;32m--> 116\u001b[0m   \u001b[38;5;28;01mif\u001b[39;00m \u001b[38;5;28;43misinstance\u001b[39;49m\u001b[43m(\u001b[49m\u001b[43mf\u001b[49m\u001b[38;5;241;43m.\u001b[39;49m\u001b[43mtype\u001b[49m\u001b[43m,\u001b[49m\u001b[43m \u001b[49m\u001b[43m(\u001b[49m\u001b[43mUnion\u001b[49m\u001b[43m,\u001b[49m\u001b[43m \u001b[49m\u001b[38;5;28;43mtype\u001b[39;49m\u001b[43m(\u001b[49m\u001b[43mOptional\u001b[49m\u001b[43m[\u001b[49m\u001b[38;5;28;43mint\u001b[39;49m\u001b[43m]\u001b[49m\u001b[43m)\u001b[49m\u001b[43m)\u001b[49m\u001b[43m)\u001b[49m:\n\u001b[1;32m    117\u001b[0m     constructors \u001b[38;5;241m=\u001b[39m [t \u001b[38;5;28;01mfor\u001b[39;00m t \u001b[38;5;129;01min\u001b[39;00m f\u001b[38;5;241m.\u001b[39mtype\u001b[38;5;241m.\u001b[39m__args__ \u001b[38;5;28;01mif\u001b[39;00m t \u001b[38;5;129;01mis\u001b[39;00m \u001b[38;5;129;01mnot\u001b[39;00m types\u001b[38;5;241m.\u001b[39mNoneType]\n\u001b[1;32m    118\u001b[0m     \u001b[38;5;28;01mif\u001b[39;00m \u001b[38;5;28mlen\u001b[39m(constructors) \u001b[38;5;241m!=\u001b[39m \u001b[38;5;241m1\u001b[39m:\n",
      "File \u001b[0;32m/sw/external/python/anaconda3/lib/python3.9/typing.py:347\u001b[0m, in \u001b[0;36m_SpecialForm.__instancecheck__\u001b[0;34m(self, obj)\u001b[0m\n\u001b[1;32m    346\u001b[0m \u001b[38;5;28;01mdef\u001b[39;00m \u001b[38;5;21m__instancecheck__\u001b[39m(\u001b[38;5;28mself\u001b[39m, obj):\n\u001b[0;32m--> 347\u001b[0m     \u001b[38;5;28;01mraise\u001b[39;00m \u001b[38;5;167;01mTypeError\u001b[39;00m(\u001b[38;5;124mf\u001b[39m\u001b[38;5;124m\"\u001b[39m\u001b[38;5;132;01m{\u001b[39;00m\u001b[38;5;28mself\u001b[39m\u001b[38;5;132;01m}\u001b[39;00m\u001b[38;5;124m cannot be used with isinstance()\u001b[39m\u001b[38;5;124m\"\u001b[39m)\n",
      "\u001b[0;31mTypeError\u001b[0m: typing.Union cannot be used with isinstance()"
     ]
    }
   ],
   "source": [
    "# @title Load the model\n",
    "\n",
    "source = source_tab.get_title(source_tab.selected_index)\n",
    "\n",
    "if source == \"Random\":\n",
    "  params = None  # Filled in below\n",
    "  state = {}\n",
    "  model_config = graphcast.ModelConfig(\n",
    "      resolution=0,\n",
    "      mesh_size=random_mesh_size.value,\n",
    "      latent_size=random_latent_size.value,\n",
    "      gnn_msg_steps=random_gnn_msg_steps.value,\n",
    "      hidden_layers=1,\n",
    "      radius_query_fraction_edge_length=0.6)\n",
    "  task_config = graphcast.TaskConfig(\n",
    "      input_variables=graphcast.TASK.input_variables,\n",
    "      target_variables=graphcast.TASK.target_variables,\n",
    "      forcing_variables=graphcast.TASK.forcing_variables,\n",
    "      pressure_levels=graphcast.PRESSURE_LEVELS[random_levels.value],\n",
    "      input_duration=graphcast.TASK.input_duration,\n",
    "  )\n",
    "else:\n",
    "  assert source == \"Checkpoint\"\n",
    "  with gcs_bucket.blob(f\"params/{params_file.value}\").open(\"rb\") as f:\n",
    "    ckpt = checkpoint.load(f, graphcast.CheckPoint)\n",
    "  params = ckpt.params\n",
    "  state = {}\n",
    "\n",
    "  model_config = ckpt.model_config\n",
    "  task_config = ckpt.task_config\n",
    "  print(\"Model description:\\n\", ckpt.description, \"\\n\")\n",
    "  print(\"Model license:\\n\", ckpt.license, \"\\n\")\n",
    "\n",
    "model_config"
   ]
  },
  {
   "cell_type": "markdown",
   "metadata": {
    "id": "rQWk0RRuCjDN"
   },
   "source": [
    "## Load the example data\n",
    "\n",
    "Several example datasets are available, varying across a few axes:\n",
    "- **Source**: fake, era5, hres\n",
    "- **Resolution**: 0.25deg, 1deg, 6deg\n",
    "- **Levels**: 13, 37\n",
    "- **Steps**: How many timesteps are included\n",
    "\n",
    "Not all combinations are available.\n",
    "- Higher resolution is only available for fewer steps due to the memory requirements of loading them.\n",
    "- HRES is only available in 0.25 deg, with 13 pressure levels.\n",
    "\n",
    "The data resolution must match the model that is loaded.\n",
    "\n",
    "Some transformations were done from the base datasets:\n",
    "- We accumulated precipitation over 6 hours instead of the default 1 hour.\n",
    "- For HRES data, each time step corresponds to the HRES forecast at leadtime 0, essentially providing an \"initialisation\" from HRES. See HRES-fc0 in the GraphCast paper for further description. Note that a 6h accumulation of precipitation is not available from HRES, so our model taking HRES inputs does not depend on precipitation. However, because our models predict precipitation, we include the ERA5 precipitation in the example data so it can serve as an illustrative example of ground truth.\n",
    "- We include ERA5 `toa_incident_solar_radiation` in the data. Our model uses the radiation at -6h, 0h and +6h as a forcing term for each 1-step prediction. If the radiation is missing from the data (e.g. in an operational setting), it will be computed using a custom implementation that produces values similar to those in ERA5."
   ]
  },
  {
   "cell_type": "code",
   "execution_count": 6,
   "metadata": {
    "cellView": "form",
    "id": "-DJzie5me2-H"
   },
   "outputs": [
    {
     "ename": "NameError",
     "evalue": "name 'model_config' is not defined",
     "output_type": "error",
     "traceback": [
      "\u001b[0;31m---------------------------------------------------------------------------\u001b[0m",
      "\u001b[0;31mNameError\u001b[0m                                 Traceback (most recent call last)",
      "Cell \u001b[0;32mIn[6], line 23\u001b[0m\n\u001b[1;32m      9\u001b[0m   file_parts \u001b[38;5;241m=\u001b[39m parse_file_parts(file_name\u001b[38;5;241m.\u001b[39mremovesuffix(\u001b[38;5;124m\"\u001b[39m\u001b[38;5;124m.nc\u001b[39m\u001b[38;5;124m\"\u001b[39m))\n\u001b[1;32m     10\u001b[0m   \u001b[38;5;28;01mreturn\u001b[39;00m (\n\u001b[1;32m     11\u001b[0m       model_config\u001b[38;5;241m.\u001b[39mresolution \u001b[38;5;129;01min\u001b[39;00m (\u001b[38;5;241m0\u001b[39m, \u001b[38;5;28mfloat\u001b[39m(file_parts[\u001b[38;5;124m\"\u001b[39m\u001b[38;5;124mres\u001b[39m\u001b[38;5;124m\"\u001b[39m])) \u001b[38;5;129;01mand\u001b[39;00m\n\u001b[1;32m     12\u001b[0m       \u001b[38;5;28mlen\u001b[39m(task_config\u001b[38;5;241m.\u001b[39mpressure_levels) \u001b[38;5;241m==\u001b[39m \u001b[38;5;28mint\u001b[39m(file_parts[\u001b[38;5;124m\"\u001b[39m\u001b[38;5;124mlevels\u001b[39m\u001b[38;5;124m\"\u001b[39m]) \u001b[38;5;129;01mand\u001b[39;00m\n\u001b[0;32m   (...)\u001b[0m\n\u001b[1;32m     18\u001b[0m       )\n\u001b[1;32m     19\u001b[0m   )\n\u001b[1;32m     22\u001b[0m dataset_file \u001b[38;5;241m=\u001b[39m widgets\u001b[38;5;241m.\u001b[39mDropdown(\n\u001b[0;32m---> 23\u001b[0m     options\u001b[38;5;241m=\u001b[39m[\n\u001b[1;32m     24\u001b[0m         (\u001b[38;5;124m\"\u001b[39m\u001b[38;5;124m, \u001b[39m\u001b[38;5;124m\"\u001b[39m\u001b[38;5;241m.\u001b[39mjoin([\u001b[38;5;124mf\u001b[39m\u001b[38;5;124m\"\u001b[39m\u001b[38;5;132;01m{\u001b[39;00mk\u001b[38;5;132;01m}\u001b[39;00m\u001b[38;5;124m: \u001b[39m\u001b[38;5;132;01m{\u001b[39;00mv\u001b[38;5;132;01m}\u001b[39;00m\u001b[38;5;124m\"\u001b[39m \u001b[38;5;28;01mfor\u001b[39;00m k, v \u001b[38;5;129;01min\u001b[39;00m parse_file_parts(option\u001b[38;5;241m.\u001b[39mremovesuffix(\u001b[38;5;124m\"\u001b[39m\u001b[38;5;124m.nc\u001b[39m\u001b[38;5;124m\"\u001b[39m))\u001b[38;5;241m.\u001b[39mitems()]), option)\n\u001b[1;32m     25\u001b[0m         \u001b[38;5;28;01mfor\u001b[39;00m option \u001b[38;5;129;01min\u001b[39;00m dataset_file_options\n\u001b[1;32m     26\u001b[0m         \u001b[38;5;28;01mif\u001b[39;00m data_valid_for_model(option, model_config, task_config)\n\u001b[1;32m     27\u001b[0m     ],\n\u001b[1;32m     28\u001b[0m     description\u001b[38;5;241m=\u001b[39m\u001b[38;5;124m\"\u001b[39m\u001b[38;5;124mDataset file:\u001b[39m\u001b[38;5;124m\"\u001b[39m,\n\u001b[1;32m     29\u001b[0m     layout\u001b[38;5;241m=\u001b[39m{\u001b[38;5;124m\"\u001b[39m\u001b[38;5;124mwidth\u001b[39m\u001b[38;5;124m\"\u001b[39m: \u001b[38;5;124m\"\u001b[39m\u001b[38;5;124mmax-content\u001b[39m\u001b[38;5;124m\"\u001b[39m})\n\u001b[1;32m     30\u001b[0m widgets\u001b[38;5;241m.\u001b[39mVBox([\n\u001b[1;32m     31\u001b[0m     dataset_file,\n\u001b[1;32m     32\u001b[0m     widgets\u001b[38;5;241m.\u001b[39mLabel(value\u001b[38;5;241m=\u001b[39m\u001b[38;5;124m\"\u001b[39m\u001b[38;5;124mRun the next cell to load the dataset. Rerunning this cell clears your selection and refilters the datasets that match your model.\u001b[39m\u001b[38;5;124m\"\u001b[39m)\n\u001b[1;32m     33\u001b[0m ])\n",
      "Cell \u001b[0;32mIn[6], line 26\u001b[0m, in \u001b[0;36m<listcomp>\u001b[0;34m(.0)\u001b[0m\n\u001b[1;32m      9\u001b[0m   file_parts \u001b[38;5;241m=\u001b[39m parse_file_parts(file_name\u001b[38;5;241m.\u001b[39mremovesuffix(\u001b[38;5;124m\"\u001b[39m\u001b[38;5;124m.nc\u001b[39m\u001b[38;5;124m\"\u001b[39m))\n\u001b[1;32m     10\u001b[0m   \u001b[38;5;28;01mreturn\u001b[39;00m (\n\u001b[1;32m     11\u001b[0m       model_config\u001b[38;5;241m.\u001b[39mresolution \u001b[38;5;129;01min\u001b[39;00m (\u001b[38;5;241m0\u001b[39m, \u001b[38;5;28mfloat\u001b[39m(file_parts[\u001b[38;5;124m\"\u001b[39m\u001b[38;5;124mres\u001b[39m\u001b[38;5;124m\"\u001b[39m])) \u001b[38;5;129;01mand\u001b[39;00m\n\u001b[1;32m     12\u001b[0m       \u001b[38;5;28mlen\u001b[39m(task_config\u001b[38;5;241m.\u001b[39mpressure_levels) \u001b[38;5;241m==\u001b[39m \u001b[38;5;28mint\u001b[39m(file_parts[\u001b[38;5;124m\"\u001b[39m\u001b[38;5;124mlevels\u001b[39m\u001b[38;5;124m\"\u001b[39m]) \u001b[38;5;129;01mand\u001b[39;00m\n\u001b[0;32m   (...)\u001b[0m\n\u001b[1;32m     18\u001b[0m       )\n\u001b[1;32m     19\u001b[0m   )\n\u001b[1;32m     22\u001b[0m dataset_file \u001b[38;5;241m=\u001b[39m widgets\u001b[38;5;241m.\u001b[39mDropdown(\n\u001b[1;32m     23\u001b[0m     options\u001b[38;5;241m=\u001b[39m[\n\u001b[1;32m     24\u001b[0m         (\u001b[38;5;124m\"\u001b[39m\u001b[38;5;124m, \u001b[39m\u001b[38;5;124m\"\u001b[39m\u001b[38;5;241m.\u001b[39mjoin([\u001b[38;5;124mf\u001b[39m\u001b[38;5;124m\"\u001b[39m\u001b[38;5;132;01m{\u001b[39;00mk\u001b[38;5;132;01m}\u001b[39;00m\u001b[38;5;124m: \u001b[39m\u001b[38;5;132;01m{\u001b[39;00mv\u001b[38;5;132;01m}\u001b[39;00m\u001b[38;5;124m\"\u001b[39m \u001b[38;5;28;01mfor\u001b[39;00m k, v \u001b[38;5;129;01min\u001b[39;00m parse_file_parts(option\u001b[38;5;241m.\u001b[39mremovesuffix(\u001b[38;5;124m\"\u001b[39m\u001b[38;5;124m.nc\u001b[39m\u001b[38;5;124m\"\u001b[39m))\u001b[38;5;241m.\u001b[39mitems()]), option)\n\u001b[1;32m     25\u001b[0m         \u001b[38;5;28;01mfor\u001b[39;00m option \u001b[38;5;129;01min\u001b[39;00m dataset_file_options\n\u001b[0;32m---> 26\u001b[0m         \u001b[38;5;28;01mif\u001b[39;00m data_valid_for_model(option, \u001b[43mmodel_config\u001b[49m, task_config)\n\u001b[1;32m     27\u001b[0m     ],\n\u001b[1;32m     28\u001b[0m     description\u001b[38;5;241m=\u001b[39m\u001b[38;5;124m\"\u001b[39m\u001b[38;5;124mDataset file:\u001b[39m\u001b[38;5;124m\"\u001b[39m,\n\u001b[1;32m     29\u001b[0m     layout\u001b[38;5;241m=\u001b[39m{\u001b[38;5;124m\"\u001b[39m\u001b[38;5;124mwidth\u001b[39m\u001b[38;5;124m\"\u001b[39m: \u001b[38;5;124m\"\u001b[39m\u001b[38;5;124mmax-content\u001b[39m\u001b[38;5;124m\"\u001b[39m})\n\u001b[1;32m     30\u001b[0m widgets\u001b[38;5;241m.\u001b[39mVBox([\n\u001b[1;32m     31\u001b[0m     dataset_file,\n\u001b[1;32m     32\u001b[0m     widgets\u001b[38;5;241m.\u001b[39mLabel(value\u001b[38;5;241m=\u001b[39m\u001b[38;5;124m\"\u001b[39m\u001b[38;5;124mRun the next cell to load the dataset. Rerunning this cell clears your selection and refilters the datasets that match your model.\u001b[39m\u001b[38;5;124m\"\u001b[39m)\n\u001b[1;32m     33\u001b[0m ])\n",
      "\u001b[0;31mNameError\u001b[0m: name 'model_config' is not defined"
     ]
    }
   ],
   "source": [
    "# @title Get and filter the list of available example datasets\n",
    "\n",
    "dataset_file_options = [\n",
    "    name for blob in gcs_bucket.list_blobs(prefix=\"dataset/\")\n",
    "    if (name := blob.name.removeprefix(\"dataset/\"))]  # Drop empty string.\n",
    "\n",
    "def data_valid_for_model(\n",
    "    file_name: str, model_config: graphcast.ModelConfig, task_config: graphcast.TaskConfig):\n",
    "  file_parts = parse_file_parts(file_name.removesuffix(\".nc\"))\n",
    "  return (\n",
    "      model_config.resolution in (0, float(file_parts[\"res\"])) and\n",
    "      len(task_config.pressure_levels) == int(file_parts[\"levels\"]) and\n",
    "      (\n",
    "          (\"total_precipitation_6hr\" in task_config.input_variables and\n",
    "           file_parts[\"source\"] in (\"era5\", \"fake\")) or\n",
    "          (\"total_precipitation_6hr\" not in task_config.input_variables and\n",
    "           file_parts[\"source\"] in (\"hres\", \"fake\"))\n",
    "      )\n",
    "  )\n",
    "\n",
    "\n",
    "dataset_file = widgets.Dropdown(\n",
    "    options=[\n",
    "        (\", \".join([f\"{k}: {v}\" for k, v in parse_file_parts(option.removesuffix(\".nc\")).items()]), option)\n",
    "        for option in dataset_file_options\n",
    "        if data_valid_for_model(option, model_config, task_config)\n",
    "    ],\n",
    "    description=\"Dataset file:\",\n",
    "    layout={\"width\": \"max-content\"})\n",
    "widgets.VBox([\n",
    "    dataset_file,\n",
    "    widgets.Label(value=\"Run the next cell to load the dataset. Rerunning this cell clears your selection and refilters the datasets that match your model.\")\n",
    "])"
   ]
  },
  {
   "cell_type": "code",
   "execution_count": null,
   "metadata": {
    "cellView": "form",
    "id": "Yz-ekISoJxeZ"
   },
   "outputs": [],
   "source": [
    "# @title Load weather data\n",
    "\n",
    "if not data_valid_for_model(dataset_file.value, model_config, task_config):\n",
    "  raise ValueError(\n",
    "      \"Invalid dataset file, rerun the cell above and choose a valid dataset file.\")\n",
    "\n",
    "with gcs_bucket.blob(f\"dataset/{dataset_file.value}\").open(\"rb\") as f:\n",
    "  example_batch = xarray.load_dataset(f).compute()\n",
    "\n",
    "assert example_batch.dims[\"time\"] >= 3  # 2 for input, >=1 for targets\n",
    "\n",
    "print(\", \".join([f\"{k}: {v}\" for k, v in parse_file_parts(dataset_file.value.removesuffix(\".nc\")).items()]))\n",
    "\n",
    "example_batch"
   ]
  },
  {
   "cell_type": "code",
   "execution_count": null,
   "metadata": {
    "cellView": "form",
    "id": "lXjFvdE6qStr"
   },
   "outputs": [],
   "source": [
    "# @title Choose data to plot\n",
    "\n",
    "plot_example_variable = widgets.Dropdown(\n",
    "    options=example_batch.data_vars.keys(),\n",
    "    value=\"2m_temperature\",\n",
    "    description=\"Variable\")\n",
    "plot_example_level = widgets.Dropdown(\n",
    "    options=example_batch.coords[\"level\"].values,\n",
    "    value=500,\n",
    "    description=\"Level\")\n",
    "plot_example_robust = widgets.Checkbox(value=True, description=\"Robust\")\n",
    "plot_example_max_steps = widgets.IntSlider(\n",
    "    min=1, max=example_batch.dims[\"time\"], value=example_batch.dims[\"time\"],\n",
    "    description=\"Max steps\")\n",
    "\n",
    "widgets.VBox([\n",
    "    plot_example_variable,\n",
    "    plot_example_level,\n",
    "    plot_example_robust,\n",
    "    plot_example_max_steps,\n",
    "    widgets.Label(value=\"Run the next cell to plot the data. Rerunning this cell clears your selection.\")\n",
    "])"
   ]
  },
  {
   "cell_type": "code",
   "execution_count": null,
   "metadata": {
    "cellView": "form",
    "id": "kIK-EgMdkHtk"
   },
   "outputs": [],
   "source": [
    "# @title Plot example data\n",
    "\n",
    "plot_size = 7\n",
    "\n",
    "data = {\n",
    "    \" \": scale(select(example_batch, plot_example_variable.value, plot_example_level.value, plot_example_max_steps.value),\n",
    "              robust=plot_example_robust.value),\n",
    "}\n",
    "fig_title = plot_example_variable.value\n",
    "if \"level\" in example_batch[plot_example_variable.value].coords:\n",
    "  fig_title += f\" at {plot_example_level.value} hPa\"\n",
    "\n",
    "plot_data(data, fig_title, plot_size, plot_example_robust.value)\n"
   ]
  },
  {
   "cell_type": "code",
   "execution_count": null,
   "metadata": {
    "cellView": "form",
    "id": "tPVy1GHokHtk"
   },
   "outputs": [],
   "source": [
    "# @title Choose training and eval data to extract\n",
    "train_steps = widgets.IntSlider(\n",
    "    value=1, min=1, max=example_batch.sizes[\"time\"]-2, description=\"Train steps\")\n",
    "eval_steps = widgets.IntSlider(\n",
    "    value=example_batch.sizes[\"time\"]-2, min=1, max=example_batch.sizes[\"time\"]-2, description=\"Eval steps\")\n",
    "\n",
    "widgets.VBox([\n",
    "    train_steps,\n",
    "    eval_steps,\n",
    "    widgets.Label(value=\"Run the next cell to extract the data. Rerunning this cell clears your selection.\")\n",
    "])"
   ]
  },
  {
   "cell_type": "code",
   "execution_count": null,
   "metadata": {
    "cellView": "form",
    "id": "Ogp4vTBvsgSt"
   },
   "outputs": [],
   "source": [
    "# @title Extract training and eval data\n",
    "\n",
    "train_inputs, train_targets, train_forcings = data_utils.extract_inputs_targets_forcings(\n",
    "    example_batch, target_lead_times=slice(\"6h\", f\"{train_steps.value*6}h\"),\n",
    "    **dataclasses.asdict(task_config))\n",
    "\n",
    "eval_inputs, eval_targets, eval_forcings = data_utils.extract_inputs_targets_forcings(\n",
    "    example_batch, target_lead_times=slice(\"6h\", f\"{eval_steps.value*6}h\"),\n",
    "    **dataclasses.asdict(task_config))\n",
    "\n",
    "print(\"All Examples:  \", example_batch.dims.mapping)\n",
    "print(\"Train Inputs:  \", train_inputs.dims.mapping)\n",
    "print(\"Train Targets: \", train_targets.dims.mapping)\n",
    "print(\"Train Forcings:\", train_forcings.dims.mapping)\n",
    "print(\"Eval Inputs:   \", eval_inputs.dims.mapping)\n",
    "print(\"Eval Targets:  \", eval_targets.dims.mapping)\n",
    "print(\"Eval Forcings: \", eval_forcings.dims.mapping)\n"
   ]
  },
  {
   "cell_type": "code",
   "execution_count": null,
   "metadata": {
    "cellView": "form",
    "id": "Q--ZRhpTdI2o"
   },
   "outputs": [],
   "source": [
    "# @title Load normalization data\n",
    "\n",
    "with gcs_bucket.blob(\"stats/diffs_stddev_by_level.nc\").open(\"rb\") as f:\n",
    "  diffs_stddev_by_level = xarray.load_dataset(f).compute()\n",
    "with gcs_bucket.blob(\"stats/mean_by_level.nc\").open(\"rb\") as f:\n",
    "  mean_by_level = xarray.load_dataset(f).compute()\n",
    "with gcs_bucket.blob(\"stats/stddev_by_level.nc\").open(\"rb\") as f:\n",
    "  stddev_by_level = xarray.load_dataset(f).compute()"
   ]
  },
  {
   "cell_type": "code",
   "execution_count": null,
   "metadata": {
    "cellView": "form",
    "id": "ke2zQyuT_sMA"
   },
   "outputs": [],
   "source": [
    "# @title Build jitted functions, and possibly initialize random weights\n",
    "\n",
    "def construct_wrapped_graphcast(\n",
    "    model_config: graphcast.ModelConfig,\n",
    "    task_config: graphcast.TaskConfig):\n",
    "  \"\"\"Constructs and wraps the GraphCast Predictor.\"\"\"\n",
    "  # Deeper one-step predictor.\n",
    "  predictor = graphcast.GraphCast(model_config, task_config)\n",
    "\n",
    "  # Modify inputs/outputs to `graphcast.GraphCast` to handle conversion to\n",
    "  # from/to float32 to/from BFloat16.\n",
    "  predictor = casting.Bfloat16Cast(predictor)\n",
    "\n",
    "  # Modify inputs/outputs to `casting.Bfloat16Cast` so the casting to/from\n",
    "  # BFloat16 happens after applying normalization to the inputs/targets.\n",
    "  predictor = normalization.InputsAndResiduals(\n",
    "      predictor,\n",
    "      diffs_stddev_by_level=diffs_stddev_by_level,\n",
    "      mean_by_level=mean_by_level,\n",
    "      stddev_by_level=stddev_by_level)\n",
    "\n",
    "  # Wraps everything so the one-step model can produce trajectories.\n",
    "  predictor = autoregressive.Predictor(predictor, gradient_checkpointing=True)\n",
    "  return predictor\n",
    "\n",
    "\n",
    "@hk.transform_with_state\n",
    "def run_forward(model_config, task_config, inputs, targets_template, forcings):\n",
    "  predictor = construct_wrapped_graphcast(model_config, task_config)\n",
    "  return predictor(inputs, targets_template=targets_template, forcings=forcings)\n",
    "\n",
    "\n",
    "@hk.transform_with_state\n",
    "def loss_fn(model_config, task_config, inputs, targets, forcings):\n",
    "  predictor = construct_wrapped_graphcast(model_config, task_config)\n",
    "  loss, diagnostics = predictor.loss(inputs, targets, forcings)\n",
    "  return xarray_tree.map_structure(\n",
    "      lambda x: xarray_jax.unwrap_data(x.mean(), require_jax=True),\n",
    "      (loss, diagnostics))\n",
    "\n",
    "def grads_fn(params, state, model_config, task_config, inputs, targets, forcings):\n",
    "  def _aux(params, state, i, t, f):\n",
    "    (loss, diagnostics), next_state = loss_fn.apply(\n",
    "        params, state, jax.random.PRNGKey(0), model_config, task_config,\n",
    "        i, t, f)\n",
    "    return loss, (diagnostics, next_state)\n",
    "  (loss, (diagnostics, next_state)), grads = jax.value_and_grad(\n",
    "      _aux, has_aux=True)(params, state, inputs, targets, forcings)\n",
    "  return loss, diagnostics, next_state, grads\n",
    "\n",
    "# Jax doesn't seem to like passing configs as args through the jit. Passing it\n",
    "# in via partial (instead of capture by closure) forces jax to invalidate the\n",
    "# jit cache if you change configs.\n",
    "def with_configs(fn):\n",
    "  return functools.partial(\n",
    "      fn, model_config=model_config, task_config=task_config)\n",
    "\n",
    "# Always pass params and state, so the usage below are simpler\n",
    "def with_params(fn):\n",
    "  return functools.partial(fn, params=params, state=state)\n",
    "\n",
    "# Our models aren't stateful, so the state is always empty, so just return the\n",
    "# predictions. This is requiredy by our rollout code, and generally simpler.\n",
    "def drop_state(fn):\n",
    "  return lambda **kw: fn(**kw)[0]\n",
    "\n",
    "init_jitted = jax.jit(with_configs(run_forward.init))\n",
    "\n",
    "if params is None:\n",
    "  params, state = init_jitted(\n",
    "      rng=jax.random.PRNGKey(0),\n",
    "      inputs=train_inputs,\n",
    "      targets_template=train_targets,\n",
    "      forcings=train_forcings)\n",
    "\n",
    "loss_fn_jitted = drop_state(with_params(jax.jit(with_configs(loss_fn.apply))))\n",
    "grads_fn_jitted = with_params(jax.jit(with_configs(grads_fn)))\n",
    "run_forward_jitted = drop_state(with_params(jax.jit(with_configs(\n",
    "    run_forward.apply))))"
   ]
  },
  {
   "cell_type": "markdown",
   "metadata": {
    "id": "VBNutliiCyqA"
   },
   "source": [
    "# Run the model\n",
    "\n",
    "Note that the cell below may take a while (possibly minutes) to run the first time you execute them, because this will include the time it takes for the code to compile. The second time running will be significantly faster.\n",
    "\n",
    "This use the python loop to iterate over prediction steps, where the 1-step prediction is jitted. This has lower memory requirements than the training steps below, and should enable making prediction with the small GraphCast model on 1 deg resolution data for 4 steps."
   ]
  },
  {
   "cell_type": "code",
   "execution_count": null,
   "metadata": {
    "cellView": "form",
    "id": "7obeY9i9oTtD"
   },
   "outputs": [],
   "source": [
    "# @title Autoregressive rollout (loop in python)\n",
    "\n",
    "assert model_config.resolution in (0, 360. / eval_inputs.sizes[\"lon\"]), (\n",
    "  \"Model resolution doesn't match the data resolution. You likely want to \"\n",
    "  \"re-filter the dataset list, and download the correct data.\")\n",
    "\n",
    "print(\"Inputs:  \", eval_inputs.dims.mapping)\n",
    "print(\"Targets: \", eval_targets.dims.mapping)\n",
    "print(\"Forcings:\", eval_forcings.dims.mapping)\n",
    "\n",
    "predictions = rollout.chunked_prediction(\n",
    "    run_forward_jitted,\n",
    "    rng=jax.random.PRNGKey(0),\n",
    "    inputs=eval_inputs,\n",
    "    targets_template=eval_targets * np.nan,\n",
    "    forcings=eval_forcings)\n",
    "predictions"
   ]
  },
  {
   "cell_type": "code",
   "execution_count": null,
   "metadata": {
    "cellView": "form",
    "id": "ft298eZskHtn"
   },
   "outputs": [],
   "source": [
    "# @title Choose predictions to plot\n",
    "\n",
    "plot_pred_variable = widgets.Dropdown(\n",
    "    options=predictions.data_vars.keys(),\n",
    "    value=\"2m_temperature\",\n",
    "    description=\"Variable\")\n",
    "plot_pred_level = widgets.Dropdown(\n",
    "    options=predictions.coords[\"level\"].values,\n",
    "    value=500,\n",
    "    description=\"Level\")\n",
    "plot_pred_robust = widgets.Checkbox(value=True, description=\"Robust\")\n",
    "plot_pred_max_steps = widgets.IntSlider(\n",
    "    min=1,\n",
    "    max=predictions.dims[\"time\"],\n",
    "    value=predictions.dims[\"time\"],\n",
    "    description=\"Max steps\")\n",
    "\n",
    "widgets.VBox([\n",
    "    plot_pred_variable,\n",
    "    plot_pred_level,\n",
    "    plot_pred_robust,\n",
    "    plot_pred_max_steps,\n",
    "    widgets.Label(value=\"Run the next cell to plot the predictions. Rerunning this cell clears your selection.\")\n",
    "])"
   ]
  },
  {
   "cell_type": "code",
   "execution_count": null,
   "metadata": {
    "cellView": "form",
    "id": "_tTdx6fmmj1I"
   },
   "outputs": [],
   "source": [
    "# @title Plot predictions\n",
    "\n",
    "plot_size = 5\n",
    "plot_max_steps = min(predictions.dims[\"time\"], plot_pred_max_steps.value)\n",
    "\n",
    "data = {\n",
    "    \"Targets\": scale(select(eval_targets, plot_pred_variable.value, plot_pred_level.value, plot_max_steps), robust=plot_pred_robust.value),\n",
    "    \"Predictions\": scale(select(predictions, plot_pred_variable.value, plot_pred_level.value, plot_max_steps), robust=plot_pred_robust.value),\n",
    "    \"Diff\": scale((select(eval_targets, plot_pred_variable.value, plot_pred_level.value, plot_max_steps) -\n",
    "                        select(predictions, plot_pred_variable.value, plot_pred_level.value, plot_max_steps)),\n",
    "                       robust=plot_pred_robust.value, center=0),\n",
    "}\n",
    "fig_title = plot_pred_variable.value\n",
    "if \"level\" in predictions[plot_pred_variable.value].coords:\n",
    "  fig_title += f\" at {plot_pred_level.value} hPa\"\n",
    "\n",
    "plot_data(data, fig_title, plot_size, plot_pred_robust.value)\n"
   ]
  },
  {
   "cell_type": "markdown",
   "metadata": {
    "id": "Pa78b64bLYe1"
   },
   "source": [
    "# Train the model\n",
    "\n",
    "The following operations require a large amount of memory and, depending on the accelerator being used, will only fit the very small \"random\" model on low resolution data. It uses the number of training steps selected above.\n",
    "\n",
    "The first time executing the cell takes more time, as it include the time to jit the function."
   ]
  },
  {
   "cell_type": "code",
   "execution_count": null,
   "metadata": {
    "cellView": "form",
    "id": "Nv-u3dAP7IRZ"
   },
   "outputs": [],
   "source": [
    "# @title Loss computation (autoregressive loss over multiple steps)\n",
    "loss, diagnostics = loss_fn_jitted(\n",
    "    rng=jax.random.PRNGKey(0),\n",
    "    inputs=train_inputs,\n",
    "    targets=train_targets,\n",
    "    forcings=train_forcings)\n",
    "print(\"Loss:\", float(loss))"
   ]
  },
  {
   "cell_type": "code",
   "execution_count": null,
   "metadata": {
    "cellView": "form",
    "id": "mBNFq1IGZNLz"
   },
   "outputs": [],
   "source": [
    "# @title Gradient computation (backprop through time)\n",
    "loss, diagnostics, next_state, grads = grads_fn_jitted(\n",
    "    inputs=train_inputs,\n",
    "    targets=train_targets,\n",
    "    forcings=train_forcings)\n",
    "mean_grad = np.mean(jax.tree_util.tree_flatten(jax.tree_util.tree_map(lambda x: np.abs(x).mean(), grads))[0])\n",
    "print(f\"Loss: {loss:.4f}, Mean |grad|: {mean_grad:.6f}\")"
   ]
  },
  {
   "cell_type": "code",
   "execution_count": null,
   "metadata": {
    "cellView": "form",
    "id": "J4FJFKWD8Loz"
   },
   "outputs": [],
   "source": [
    "# @title Autoregressive rollout (keep the loop in JAX)\n",
    "print(\"Inputs:  \", train_inputs.dims.mapping)\n",
    "print(\"Targets: \", train_targets.dims.mapping)\n",
    "print(\"Forcings:\", train_forcings.dims.mapping)\n",
    "\n",
    "predictions = run_forward_jitted(\n",
    "    rng=jax.random.PRNGKey(0),\n",
    "    inputs=train_inputs,\n",
    "    targets_template=train_targets * np.nan,\n",
    "    forcings=train_forcings)\n",
    "predictions"
   ]
  }
 ],
 "metadata": {
  "colab": {
   "name": "GraphCast",
   "private_outputs": true,
   "provenance": [],
   "toc_visible": true
  },
  "kernelspec": {
   "display_name": "Python [conda env:root] *",
   "language": "python",
   "name": "conda-root-py"
  },
  "language_info": {
   "codemirror_mode": {
    "name": "ipython",
    "version": 3
   },
   "file_extension": ".py",
   "mimetype": "text/x-python",
   "name": "python",
   "nbconvert_exporter": "python",
   "pygments_lexer": "ipython3",
   "version": "3.9.18"
  }
 },
 "nbformat": 4,
 "nbformat_minor": 4
}
